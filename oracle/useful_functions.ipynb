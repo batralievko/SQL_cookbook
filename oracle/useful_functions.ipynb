**Import library**

import psycopg2
import sqlalchemy as db
from sqlalchemy import create_engine


**Connection**

def connector(host, dbname, user, password):
    """
    :param host: 
    :param dbname: 
    :param user: 
    :param password: 
    :return: 
    """
    conn_string = f"host= {host} dbname={dbname} user= {user} password = {password}"
    connection = psycopg2.connect(conn_string)
    return connection
    
**Engine, meta**

def engine_meta(dialect, driver, name, password, host, table):
    """
    :param dialect:
    :param driver:
    :param name:
    :param password:
    :param host:
    :param table:
    :return:
    """
    engine = create_engine(dialect+driver+'://'+name+':'+password+'@'+host+'/'+table)
    meta = db.MetaData(bind=engine, reflect=True)
    return engine, meta
    
 **Explore**
 
 def explore_tables(eng):
    """
    :param eng: Instance of db engine
    :return None:
    """
    print(eng.table_names())
    return None
 
 def table_dump_view(eng, table_name):
    """
    :param eng: 
    :param table_name: 
    :return: 
    """
    query = 'SELECT * FROM '+ table_name
    results = eng.execute(query).fetchall()
    for each in results: 
        print(each)
